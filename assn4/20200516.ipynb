{
 "cells": [
  {
   "cell_type": "markdown",
   "id": "308d1981",
   "metadata": {},
   "source": [
    "# CSED490B - Assignment 4"
   ]
  },
  {
   "cell_type": "markdown",
   "id": "fcbe9c8c",
   "metadata": {},
   "source": [
    "### Submission guideline\n",
    "\n",
    "- You should upload this jupyter notebook file\n",
    "- Change the filename to your_student_id.ipynb (e.g., 20211234.ipynb)\n",
    "- Any violation in the submission format may bring 5% penalty.\n",
    "\n",
    "### Due: 23:59, December 26"
   ]
  },
  {
   "cell_type": "code",
   "execution_count": 1,
   "id": "cae510c1",
   "metadata": {},
   "outputs": [],
   "source": [
    "import numpy as np\n",
    "import scipy as sp\n",
    "import matplotlib.pyplot as plt\n",
    "import matplotlib.cm as cm\n",
    "import scipy.stats as ss\n",
    "\n",
    "# You can import more functions from numpy and scipy - do not use any other libraries"
   ]
  },
  {
   "cell_type": "markdown",
   "id": "c4ccb220",
   "metadata": {},
   "source": [
    "## Principal Component Analysis"
   ]
  },
  {
   "cell_type": "markdown",
   "id": "ef006482",
   "metadata": {},
   "source": [
    "In this assignment, you will first implement the principal component analysis. From the lectures, we learned that the PCA is useful to reduce the dimensionality of the dataset.\n",
    "\n",
    "Let's first load the prepared dataset."
   ]
  },
  {
   "cell_type": "code",
   "execution_count": 2,
   "id": "038d5d51",
   "metadata": {},
   "outputs": [],
   "source": [
    "X = np.load('PCA_dataset.npy')\n",
    "N, D = X.shape"
   ]
  },
  {
   "cell_type": "markdown",
   "id": "5a039872",
   "metadata": {},
   "source": [
    "Let's have a look at the data points."
   ]
  },
  {
   "cell_type": "code",
   "execution_count": 3,
   "id": "1497ac3c",
   "metadata": {},
   "outputs": [
    {
     "data": {
      "text/plain": [
       "<matplotlib.collections.PathCollection at 0x13ad6e2cee0>"
      ]
     },
     "execution_count": 3,
     "metadata": {},
     "output_type": "execute_result"
    },
    {
     "data": {
      "image/png": "[encoded data removed]",
      "text/plain": [
       "<Figure size 432x288 with 1 Axes>"
      ]
     },
     "metadata": {
      "needs_background": "light"
     },
     "output_type": "display_data"
    }
   ],
   "source": [
    "plt.scatter(X[:,0], X[:,1])"
   ]
  },
  {
   "cell_type": "markdown",
   "id": "18992e5a",
   "metadata": {},
   "source": [
    "If you remember the PCA algorithm consists of the following steps:\n",
    "\n",
    "1. Normalize dataset in order to make the mean of each feature to 0 and the standard deviation to 1\n",
    "2. Compute the data covariance matrix $S$\n",
    "3. Compute the first $k$-eigenvectors (principal components) corresponding to the highest $k$-eigenvalues\n",
    "4. Project the data points onto the principal components (compute $z_n$ for each $x_n$)"
   ]
  },
  {
   "cell_type": "markdown",
   "id": "8ad064b5",
   "metadata": {},
   "source": [
    "### Question1: Data normalization (20pt)"
   ]
  },
  {
   "cell_type": "markdown",
   "id": "058caf44",
   "metadata": {},
   "source": [
    "Your first job is to normalize the dataset. Implement the following function to normalize. Your return must have the shape of [N x D]."
   ]
  },
  {
   "cell_type": "code",
   "execution_count": 4,
   "id": "db95451a",
   "metadata": {},
   "outputs": [],
   "source": [
    "def normalize(X):\n",
    "    \"\"\"\n",
    "    Return normalized dataset X.\n",
    "    \n",
    "    Parameters\n",
    "    ----------\n",
    "    X : dataset with shape (dimension) [N x D], where N is the number \n",
    "        of data points and D is the number of features.\n",
    "    \"\"\"\n",
    "    \n",
    "    # Implement the missing part of this code\n",
    "    normalized_X = (X - np.mean(X, axis = 0)) / np.std(X, axis = 0)\n",
    "    \n",
    "    return normalized_X"
   ]
  },
  {
   "cell_type": "markdown",
   "id": "322e48f8",
   "metadata": {},
   "source": [
    "Let's visualize your dataset again. Is it normalized well?"
   ]
  },
  {
   "cell_type": "code",
   "execution_count": 5,
   "id": "c24022d4",
   "metadata": {},
   "outputs": [
    {
     "data": {
      "text/plain": [
       "<matplotlib.collections.PathCollection at 0x13ad8f3c820>"
      ]
     },
     "execution_count": 5,
     "metadata": {},
     "output_type": "execute_result"
    },
    {
     "data": {
      "image/png": "[encoded data removed]",
      "text/plain": [
       "<Figure size 432x288 with 1 Axes>"
      ]
     },
     "metadata": {
      "needs_background": "light"
     },
     "output_type": "display_data"
    }
   ],
   "source": [
    "# do not modify the code\n",
    "normalized_X = normalize(X)\n",
    "plt.scatter(normalized_X[:,0], normalized_X[:,1])"
   ]
  },
  {
   "cell_type": "markdown",
   "id": "89625430",
   "metadata": {},
   "source": [
    "### Question2: PCA  (20pt)"
   ]
  },
  {
   "cell_type": "markdown",
   "id": "acc82849",
   "metadata": {},
   "source": [
    "Implement the third and fourth steps of PCA. Note that the data covariance matrix $S$ is computed in the code. If your implementation is correct, you need to return two matrices: `Z` and `B` (following the notations in the lecture slides). The shape of `Z` must be [N x K] and `B` be [D x K], where K is the number of principle components we set."
   ]
  },
  {
   "cell_type": "code",
   "execution_count": 6,
   "id": "933507f3",
   "metadata": {},
   "outputs": [],
   "source": [
    "def PCA(X, k):\n",
    "    \"\"\"\n",
    "    Perform PCA for dataset X. You need to return Z and B (check the description above).\n",
    "    \n",
    "    Parameters\n",
    "    ----------\n",
    "    X : normalized dataset with shape [N x D]\n",
    "    k : the number of principal components we use\n",
    "    \"\"\"\n",
    "    num_data, num_dim = X.shape\n",
    "    S = (1./X.shape[0]) * X.T @ X #data covriance matrix\n",
    "    \n",
    "    # implement the missing part of this method\n",
    "    #print(X)\n",
    "    evalue, evec = np.linalg.eig(S)\n",
    "    idx = evalue.argsort()[::-1]\n",
    "    B = np.empty((0, 2))\n",
    "    for i in range(len(idx)):\n",
    "        if i == k:\n",
    "            break\n",
    "        B = np.append(B, np.array([evec[:, idx[i]]]), axis = 0)\n",
    "    B = np.transpose(B)\n",
    "    Z = np.dot(X, B)\n",
    "    \n",
    "    return Z, B"
   ]
  },
  {
   "cell_type": "markdown",
   "id": "280ccf86",
   "metadata": {},
   "source": [
    "Let's have a look at how your data points spread after projecting onto the first PC."
   ]
  },
  {
   "cell_type": "code",
   "execution_count": 7,
   "id": "4880a570",
   "metadata": {},
   "outputs": [
    {
     "data": {
      "text/plain": [
       "<matplotlib.collections.PathCollection at 0x13ad9f75a60>"
      ]
     },
     "execution_count": 7,
     "metadata": {},
     "output_type": "execute_result"
    },
    {
     "data": {
      "image/png": "[encoded data removed]",
      "text/plain": [
       "<Figure size 432x288 with 1 Axes>"
      ]
     },
     "metadata": {
      "needs_background": "light"
     },
     "output_type": "display_data"
    }
   ],
   "source": [
    "# do not modify the code\n",
    "K = 1\n",
    "coeff, PCs = PCA(normalized_X, K)\n",
    "plt.scatter(coeff, np.zeros(N))"
   ]
  },
  {
   "cell_type": "markdown",
   "id": "8a17fb99",
   "metadata": {},
   "source": [
    "Now, visualize the first PC with the original normalized dataset."
   ]
  },
  {
   "cell_type": "code",
   "execution_count": 8,
   "id": "2cc077de",
   "metadata": {},
   "outputs": [
    {
     "data": {
      "text/plain": [
       "(-2.4904427628741064, 2.7758962647994307)"
      ]
     },
     "execution_count": 8,
     "metadata": {},
     "output_type": "execute_result"
    },
    {
     "data": {
      "image/png": "[encoded data removed]",
      "text/plain": [
       "<Figure size 432x288 with 1 Axes>"
      ]
     },
     "metadata": {
      "needs_background": "light"
     },
     "output_type": "display_data"
    }
   ],
   "source": [
    "# do not modify the code\n",
    "x = PCs[:,0][0] * 10\n",
    "y = PCs[:,0][1] * 10\n",
    "plt.plot([-x,x], [-y,y], c='red')\n",
    "plt.scatter(normalized_X[:,0], normalized_X[:,1])\n",
    "plt.xlim(np.min(normalized_X[:,0]-0.1), np.max(normalized_X[:,0])+0.1)\n",
    "plt.ylim(np.min(normalized_X[:,1]-0.1), np.max(normalized_X[:,1])+0.1)"
   ]
  },
  {
   "cell_type": "markdown",
   "id": "a8bccaeb",
   "metadata": {},
   "source": [
    "## Clustering algorithms"
   ]
  },
  {
   "cell_type": "markdown",
   "id": "a82e8445",
   "metadata": {},
   "source": [
    "For the second part of this assignment, you will implement two clustering algorithms: K-means and Gaussian mixture model (GMM). Read the instruction carefully, and fill the missing part of the code.\n",
    "\n",
    "For this assignment, we will use the following dataset `X`."
   ]
  },
  {
   "cell_type": "code",
   "execution_count": 9,
   "id": "ca868cf0",
   "metadata": {},
   "outputs": [
    {
     "data": {
      "text/plain": [
       "<matplotlib.collections.PathCollection at 0x13ada0474f0>"
      ]
     },
     "execution_count": 9,
     "metadata": {},
     "output_type": "execute_result"
    },
    {
     "data": {
      "image/png": "[encoded data removed]",
      "text/plain": [
       "<Figure size 432x288 with 1 Axes>"
      ]
     },
     "metadata": {
      "needs_background": "light"
     },
     "output_type": "display_data"
    }
   ],
   "source": [
    "# do not modify the code\n",
    "X = np.array([[-2,0],[0,1],[2.5,2.5],[4,3],[4,4],[15,15]])\n",
    "plt.scatter(X[:,0], X[:,1])"
   ]
  },
  {
   "cell_type": "markdown",
   "id": "ab2fce72",
   "metadata": {},
   "source": [
    "### Question3: K-means  (20pt)\n",
    "\n",
    "Note that the k-means algorithm consists of the following steps:\n",
    "\n",
    "1. Given initial centroids, compute the pairwise distances between data points and centroids\n",
    "1. Assign data points to the closest centroid\n",
    "1. Update the centroids based on the assigned data points\n",
    "1. Repeat the above step until converge.\n",
    "\n",
    "For the ease of implementat, we will fix the maximum number of iteration to 10 instead of running the algorithm until convergence. Implement the missing part of the k-means algorithm. "
   ]
  },
  {
   "cell_type": "code",
   "execution_count": 10,
   "id": "a86ae93c",
   "metadata": {},
   "outputs": [],
   "source": [
    "def kmeans(X, init_centroid, K, max_iter=10):\n",
    "    \"\"\"\n",
    "    Run kmeans and returns the clustering assignment `R` of input `X` and cluster `centroid`s.\n",
    "    Returned variable `R` has dimensionality of [N]\n",
    "    The dimensionality of `centroid` is [K x D]\n",
    "    \n",
    "    Parameters\n",
    "    ----------\n",
    "    X: input parameter [N x D] (where D is the number of input features)\n",
    "    init_centroid: initial centroid [K x D]\n",
    "    max_iter: maximum number of iterations performed by the algorithm\n",
    "    \"\"\"\n",
    "\n",
    "    centroid = init_centroid\n",
    "    num_data, num_dim = X.shape\n",
    "    \n",
    "    for i in range(max_iter):\n",
    "        # Implement: compute pairwise Euclidean distances between data points and centroids\n",
    "        def euc_dist(dp1, dp2):\n",
    "            dist = 0.0\n",
    "            for i in range(len(dp1)):\n",
    "                dist += ((dp1[i] - dp2[i])**2)\n",
    "            return dist ** 0.5\n",
    "        \n",
    "        # Implement: update clustering assignment for each data point (R)\n",
    "        R = []\n",
    "        for i in range(num_data):\n",
    "            val = float(\"inf\")\n",
    "            idx = 0\n",
    "            num = 0\n",
    "            for ci in centroid:\n",
    "                dist = euc_dist(X[i], ci)\n",
    "                if(val > dist):\n",
    "                    val = dist\n",
    "                    idx = num\n",
    "                num += 1\n",
    "            R = np.append(R, idx)\n",
    "        \n",
    "        # Implement: update centroid from the assignment\n",
    "        num_list = np.zeros(K, dtype=int)\n",
    "        for i in range(len(R)):\n",
    "            num_list[int(R[i])] += 1\n",
    "        new_centroid = np.zeros(shape=(K, num_dim))\n",
    "        for i in range(num_data):\n",
    "            for d in range(num_dim):\n",
    "                new_centroid[int(R[i])][d] += (X[i][d] / num_list[int(R[i])])\n",
    "        centroid = new_centroid\n",
    "    \n",
    "    return R, centroid"
   ]
  },
  {
   "cell_type": "markdown",
   "id": "a8153fc7",
   "metadata": {},
   "source": [
    "Let's plot the result of K-means"
   ]
  },
  {
   "cell_type": "code",
   "execution_count": 11,
   "id": "e23b2c99",
   "metadata": {},
   "outputs": [
    {
     "data": {
      "image/png": "[encoded data removed]",
      "text/plain": [
       "<Figure size 432x288 with 1 Axes>"
      ]
     },
     "metadata": {
      "needs_background": "light"
     },
     "output_type": "display_data"
    }
   ],
   "source": [
    "# do not modify the code\n",
    "K = 2\n",
    "init_centroid = np.array([[1,1],[3,3]], dtype=float)  #initial centroids\n",
    "\n",
    "# run kmeans\n",
    "R, centroid = kmeans(X, init_centroid, K)\n",
    "\n",
    "# print output\n",
    "plt.scatter(X[:,0], X[:,1], c=R, cmap=cm.rainbow)\n",
    "plt.scatter(centroid[:,0], centroid[:,1], marker='*', color='black')\n",
    "plt.show()"
   ]
  },
  {
   "cell_type": "markdown",
   "id": "65bf9b34",
   "metadata": {},
   "source": [
    "### Question4: Gaussian Mixture Models  (20pt)"
   ]
  },
  {
   "cell_type": "markdown",
   "id": "f03ff117",
   "metadata": {},
   "source": [
    "Now, we will implement a bit more sophisticated clustering algorithm called Gaussian mixture models. To implement, we define GMM class. Your job is to implement `expectation` and `maximization` methods.\n",
    "\n",
    "In `expectation` step, you need to compute responsiblity of each data point w.r.t each mixture, and in `maximization` step, you need to update the model paramters including mixture weights, means, and covariances. Read the following skeleton code carefully, and fill the missing parts of the code.\n",
    "\n",
    "Please do not modify `__init__` and `fit` methods."
   ]
  },
  {
   "cell_type": "code",
   "execution_count": 12,
   "id": "aa4856e0",
   "metadata": {},
   "outputs": [],
   "source": [
    "class GMM():\n",
    "    def __init__(self, K, max_iter=10):\n",
    "        \"\"\" (Do not modify this method)\n",
    "        \n",
    "        Parameters\n",
    "        ----------        \n",
    "        K : number of clusters\n",
    "        max_iter : maximum number of EM-iteration\n",
    "        \"\"\"\n",
    "        self.K = K\n",
    "        self.max_iter=max_iter\n",
    "\n",
    "    def fit(self, X, init_centroid):\n",
    "        \"\"\" (Do not modify this method)\n",
    "        Run EM algorithm and return the model parameters `pi, mu, covar` \n",
    "        as well as the assignment structure `R`\n",
    "        \n",
    "        The shape of each output variables is\n",
    "        R : [N x K]\n",
    "        pi : [K]\n",
    "        mu : [K x D]\n",
    "        covar : [K x D x D]\n",
    "        \n",
    "        Parameters\n",
    "        ----------\n",
    "        X : dataset, shape [N x D]\n",
    "        init_centroid : intial centroid, shape [K x D]\n",
    "        \"\"\"\n",
    "        num_data, num_dim = X.shape\n",
    "\n",
    "        pi = np.ones(self.K)/self.K\n",
    "        mu = init_centroid\n",
    "        covar = np.zeros((self.K, num_dim, num_dim))\n",
    "        \n",
    "        for i in range(self.K):\n",
    "            covar[i] = np.eye(num_dim)\n",
    "\n",
    "        for i in range(self.max_iter):\n",
    "            R = self.expectation(X, pi, mu, covar)\n",
    "            pi, mu, covar = self.maximization(X, R)\n",
    "            \n",
    "            for i in range(self.K):\n",
    "                covar[i] += np.eye(num_dim)*1e-3  # avoid singular matrix\n",
    "\n",
    "        return R, pi, mu, covar\n",
    "\n",
    "    def expectation(self, X, pi, mu, covar):\n",
    "        \"\"\" Compute expectation step\n",
    "        \n",
    "        Parameters\n",
    "        ----------\n",
    "        X : dataset, shape [N x D]\n",
    "        pi : current mixture weights, shape [K]\n",
    "        mu : current Gaussian means, shape [K x D]\n",
    "        covar : current Gaussian covariance, shape [K x D x D]\n",
    "        \"\"\"\n",
    "        \n",
    "        R = np.zeros((X.shape[0], self.K))\n",
    "        \n",
    "        ### fill the missing part of this code ###\n",
    "        for n in range(X.shape[0]):\n",
    "            for k in range(mu.shape[0]):\n",
    "                R[n][k] = pi[k] * ss.multivariate_normal(mean=mu[k], cov=covar[k]).pdf(X[n])\n",
    "                Sum = 0.0\n",
    "                for j in range(mu.shape[0]):\n",
    "                    Sum += pi[j] * ss.multivariate_normal(mean=mu[j], cov=covar[j]).pdf(X[n])\n",
    "                R[n][k] /= Sum\n",
    "        \n",
    "        return R\n",
    "\n",
    "    def maximization(self, X, R):\n",
    "        \"\"\" Compute maximization step\n",
    "        \n",
    "        Parameters\n",
    "        ----------\n",
    "        X : dataset, shape [N x D]\n",
    "        R : responsibility, shape [N x K]\n",
    "        \"\"\"\n",
    "        \n",
    "        ### update mean here - fill the missing part of the code ###\n",
    "        mu = np.zeros((R.shape[1], X.shape[1]))\n",
    "        for k in range(R.shape[1]):\n",
    "            numerator = 0\n",
    "            denominator = 0.0\n",
    "            for n in range(X.shape[0]):\n",
    "                numerator += R[n][k] * X[n]\n",
    "                denominator += R[n][k]\n",
    "            mu[k] += (numerator / denominator)\n",
    "        \n",
    "        ### update covariance here - fill the missing part of the code ###\n",
    "        covar = np.zeros((R.shape[1], X.shape[1], X.shape[1]))\n",
    "        for k in range(R.shape[1]):\n",
    "            numerator = 0\n",
    "            denominator = 0.0\n",
    "            for n in range(X.shape[0]):\n",
    "                numerator += R[n][k] * np.dot(X[n]-mu[k], np.transpose(X[n]-mu[k]))\n",
    "                denominator += R[n][k]\n",
    "            covar[k] += (numerator / denominator)\n",
    "        \n",
    "        ### update mixture weight  - fill the missing part of the code ###\n",
    "        pi = np.zeros(R.shape[1])\n",
    "        for k in range(R.shape[1]):\n",
    "            numerator = 0.0\n",
    "            for n in range(X.shape[0]):\n",
    "                numerator += R[n][k]\n",
    "            pi[k] += (numerator / X.shape[0])\n",
    "        \n",
    "        return pi, mu, covar"
   ]
  },
  {
   "cell_type": "markdown",
   "id": "b591d166",
   "metadata": {},
   "source": [
    "Let's run GMM. We will use the same dataset used in k-means."
   ]
  },
  {
   "cell_type": "code",
   "execution_count": 13,
   "id": "8004ed2e",
   "metadata": {},
   "outputs": [
    {
     "data": {
      "image/png": "[encoded data removed]",
      "text/plain": [
       "<Figure size 432x288 with 1 Axes>"
      ]
     },
     "metadata": {
      "needs_background": "light"
     },
     "output_type": "display_data"
    }
   ],
   "source": [
    "# do not modify the code\n",
    "K = 2\n",
    "init_centroid = np.array([[1,1],[3,3]], dtype=float)\n",
    "# run GMM\n",
    "gmm = GMM(K, max_iter=10)\n",
    "R, pi, mu, covar = gmm.fit(X, init_centroid)\n",
    "\n",
    "# print output\n",
    "plt.scatter(X[:,0], X[:,1], c=R[:,0], cmap=cm.rainbow)\n",
    "plt.scatter(mu[:,0], mu[:,1], marker='*', color='black')    \n",
    "plt.show()"
   ]
  },
  {
   "cell_type": "markdown",
   "id": "bf4dc76d",
   "metadata": {},
   "source": [
    "### Question 5: Difference between k-means and GMM (20pt)"
   ]
  },
  {
   "cell_type": "markdown",
   "id": "d896ee66",
   "metadata": {},
   "source": [
    "Can you find the difference between K-means and GMM? What makes these two algorithms working differently? Provide your answer below."
   ]
  },
  {
   "cell_type": "markdown",
   "id": "14e0cda1",
   "metadata": {},
   "source": [
    "ANSWER: "
   ]
  },
  {
   "cell_type": "code",
   "execution_count": 14,
   "id": "509bca12",
   "metadata": {
    "scrolled": true
   },
   "outputs": [
    {
     "ename": "SyntaxError",
     "evalue": "invalid syntax (Temp/ipykernel_2920/1571289192.py, line 1)",
     "output_type": "error",
     "traceback": [
      "\u001b[1;36m  File \u001b[1;32m\"C:\\Users\\kcpnr\\AppData\\Local\\Temp/ipykernel_2920/1571289192.py\"\u001b[1;36m, line \u001b[1;32m1\u001b[0m\n\u001b[1;33m    K-means는 어떤 data point를 어떤 클러스터 하나에 무조건 할당한다.\u001b[0m\n\u001b[1;37m             ^\u001b[0m\n\u001b[1;31mSyntaxError\u001b[0m\u001b[1;31m:\u001b[0m invalid syntax\n"
     ]
    }
   ],
   "source": [
    "K-means는 어떤 data point를 어떤 클러스터 하나에 무조건 할당한다.\n",
    "하지만 GMM은 확률을 사용하여 어떤 data point가 어떤 클러스터에 assign될 확률을 이용한다.\n",
    "또, K-means는 단순히 mean만을 사용하지만, GMM은 mean뿐만 아니라 variancee\n",
    "이로 인해 K-means를 썼을 때와 GMM을 썼을 때 다른 결과가 나타난다.\n",
    "예를 들어, 위의 예시에서 (15, 14)와 같은 outlier에 대해 K-means는 제대로 클러스터링하지못하는 반면,\n",
    "GMM을 이용했을때는 클러스터링이 잘 이루어졌음을 확인할 수 있다."
   ]
  },
  {
   "cell_type": "code",
   "execution_count": null,
   "id": "feea732c",
   "metadata": {},
   "outputs": [],
   "source": []
  },
  {
   "cell_type": "code",
   "execution_count": null,
   "id": "501ed474",
   "metadata": {},
   "outputs": [],
   "source": []
  }
 ],
 "metadata": {
  "kernelspec": {
   "display_name": "Python 3 (ipykernel)",
   "language": "python",
   "name": "python3"
  },
  "language_info": {
   "codemirror_mode": {
    "name": "ipython",
    "version": 3
   },
   "file_extension": ".py",
   "mimetype": "text/x-python",
   "name": "python",
   "nbconvert_exporter": "python",
   "pygments_lexer": "ipython3",
   "version": "3.9.0"
  }
 },
 "nbformat": 4,
 "nbformat_minor": 5
}
